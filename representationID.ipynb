{
 "cells": [
  {
   "cell_type": "code",
   "execution_count": 35,
   "metadata": {
    "_cell_guid": "b1076dfc-b9ad-4769-8c92-a6c4dae69d19",
    "_uuid": "8f2839f25d086af736a60e9eeb907d3b93b6e0e5"
   },
   "outputs": [],
   "source": [
    "#### IMPORTS ####\n",
    "\n",
    "# data visualisation and manipulation\n",
    "import numpy as np\n",
    "import pandas as pd\n",
    "\n",
    "import random\n",
    "import pickle \n",
    "\n",
    "##graphique\n",
    "from bokeh.plotting import figure, show, output_file\n",
    "from bokeh.models.tools import HoverTool\n",
    "from bokeh.layouts import layout, column\n",
    "from bokeh.models import ColumnDataSource, Div\n",
    "from bokeh.models.widgets import Slider, Select, TextInput\n",
    "from bokeh.io import curdoc\n",
    "\n",
    "# fichiers\n",
    "import json"
   ]
  },
  {
   "cell_type": "code",
   "execution_count": null,
   "metadata": {
    "_cell_guid": "79c7e3d0-c299-4dcb-8224-4455121ee9b0",
    "_uuid": "d629ff2d2480ee46fbb7e2d37f6b5fab8052498a"
   },
   "outputs": [],
   "source": [
    "#### Chargement des fichiers ####\n",
    "\n",
    "# Fichier json d'apprentissage\n",
    "with open('train.json', 'r') as f1:\n",
    "    datas1 = json.load(f1) # id, cuisine, ingredients[]\n",
    "\n",
    "# Fichier json dont on cherche les types de cuisines\n",
    "with open('test.json', 'r') as f2:\n",
    "    datas2 = json.load(f2) # id, ingredients[]\n"
   ]
  },
  {
   "cell_type": "code",
   "execution_count": null,
   "metadata": {},
   "outputs": [],
   "source": [
    "#### Extraction des données des fichiers ####\n",
    "\n",
    "csv = []\n",
    "\n",
    "for data in datas1:\n",
    "    for ingredient in data['ingredients']:\n",
    "        # Ajout de la ligne id-cuisine-ingredient\n",
    "        tmp = dict()\n",
    "        tmp['id'] = str(data['id'])\n",
    "        tmp['cuisine'] = data['cuisine']\n",
    "        tmp['ingredient'] = ingredient\n",
    "        csv.append(tmp)\n",
    "\n",
    "for data in datas2:\n",
    "    for ingredient in data['ingredients']:\n",
    "        # Ajout de la ligne id-ingredient\n",
    "        tmp = dict()\n",
    "        tmp['id'] = str(data['id'])\n",
    "        tmp['ingredient'] = ingredient\n",
    "        csv.append(tmp)\n",
    "\n",
    "df = pd.DataFrame(csv) # DataFrame des données Source (d'apprentissage : train.json)\n",
    "#dft = pd.DataFrame(csv2) # DataFrame des données de Test (test.json)"
   ]
  },
  {
   "cell_type": "code",
   "execution_count": null,
   "metadata": {},
   "outputs": [],
   "source": [
    "#### Récupération des données extraites ####\n",
    "id_plats_train = sorted(list(df['id'].unique()))\n",
    "cuisines = list(df['cuisine'].unique())\n",
    "\n"
   ]
  },
  {
   "cell_type": "code",
   "execution_count": null,
   "metadata": {},
   "outputs": [],
   "source": []
  },
  {
   "cell_type": "code",
   "execution_count": null,
   "metadata": {},
   "outputs": [],
   "source": [
    "len(cuisines)"
   ]
  },
  {
   "cell_type": "code",
   "execution_count": null,
   "metadata": {},
   "outputs": [],
   "source": [
    "\n",
    "len(id_plats_train)"
   ]
  },
  {
   "cell_type": "code",
   "execution_count": null,
   "metadata": {},
   "outputs": [],
   "source": [
    "W = np.loadtxt('points_H')"
   ]
  },
  {
   "cell_type": "code",
   "execution_count": null,
   "metadata": {},
   "outputs": [],
   "source": [
    "W"
   ]
  },
  {
   "cell_type": "code",
   "execution_count": null,
   "metadata": {},
   "outputs": [],
   "source": [
    "from matplotlib import pyplot as plt\n",
    "from matplotlib.collections import LineCollection\n",
    "\n",
    "from sklearn import manifold\n",
    "from sklearn.metrics import euclidean_distances\n",
    "from sklearn.decomposition import PCA\n",
    "import bokeh as bkh"
   ]
  },
  {
   "cell_type": "code",
   "execution_count": null,
   "metadata": {},
   "outputs": [],
   "source": [
    "fig = plt.figure(1)\n",
    "ax = plt.axes([0., 0., 1., 1.])\n",
    "s = 50\n",
    "\n",
    "plt.scatter(W[:, 0], W[:, 1], color='turquoise', s=s, lw=0, label='cuisines')\n",
    "\n",
    "\n",
    "plt.legend(scatterpoints=1, loc='best', shadow=False)\n",
    "\n",
    "#for i, txt in enumerate(index):\n",
    "#    ax.annotate(txt, (tnse_cuisine[i][0], tnse_cuisine[i][1]))"
   ]
  },
  {
   "cell_type": "code",
   "execution_count": null,
   "metadata": {},
   "outputs": [],
   "source": [
    "TOOLS=\"hover,crosshair,pan,wheel_zoom,zoom_in,zoom_out,box_zoom,undo,redo,reset,tap,save,box_select,poly_select,lasso_select,\"\n",
    "p = figure(tools=TOOLS,  tooltips = [('id plat', '@plat')])\n",
    "\n",
    "colors = []\n",
    "for i in enumerate(id_plats_train):\n",
    "    colors.append('blue')\n",
    "    \n",
    "\n",
    "\n",
    "source = ColumnDataSource(\n",
    "    data= dict(\n",
    "    plat = tuple(id_plats_train),\n",
    "    x= W[:, 0],\n",
    "    y= W[:, 1],\n",
    "    colors= colors, \n",
    ")\n",
    ")\n",
    "\n",
    "for i in range(len(points_par_pays)):\n",
    "    mes_points = points_par_pays[i]\n",
    "    colors = color[i]\n",
    "    for j in range(len(mes_points)):\n",
    "        mon_point = points_par_pays[i][j]\n",
    "        p.circle(mon_point[:,0], mon_point[;,1], fill_color = colors, fill_alpha=1, line_color=None)\n",
    "    \n",
    "p.circle('x' ,'y', source= source, fill_color= 'colors', fill_alpha= 1, line_color=None)\n"
   ]
  },
  {
   "cell_type": "code",
   "execution_count": 33,
   "metadata": {},
   "outputs": [],
   "source": [
    "show(p)"
   ]
  },
  {
   "cell_type": "code",
   "execution_count": 13,
   "metadata": {},
   "outputs": [],
   "source": [
    "#####\n",
    "#genere des couleur aléatoire\n",
    "number_of_colors = 20\n",
    "\n",
    "color = [\"#\"+''.join([random.choice('0123456789ABCDEF') for j in range(6)])\n",
    "             for i in range(number_of_colors)]\n",
    "#####"
   ]
  },
  {
   "cell_type": "code",
   "execution_count": 14,
   "metadata": {},
   "outputs": [],
   "source": [
    "file = open('points_par_pays.data', 'rb')\n",
    "points_par_pays = pickle.load(file)\n",
    "file.close()"
   ]
  },
  {
   "cell_type": "code",
   "execution_count": 31,
   "metadata": {},
   "outputs": [
    {
     "name": "stdout",
     "output_type": "stream",
     "text": [
      "-5.701437473297119\n"
     ]
    }
   ],
   "source": [
    "print(points_par_pays[0][0][0])\n"
   ]
  },
  {
   "cell_type": "code",
   "execution_count": null,
   "metadata": {},
   "outputs": [],
   "source": [
    "\n",
    "    "
   ]
  }
 ],
 "metadata": {
  "kernelspec": {
   "display_name": "Python 3",
   "language": "python",
   "name": "python3"
  },
  "language_info": {
   "codemirror_mode": {
    "name": "ipython",
    "version": 3
   },
   "file_extension": ".py",
   "mimetype": "text/x-python",
   "name": "python",
   "nbconvert_exporter": "python",
   "pygments_lexer": "ipython3",
   "version": "3.7.4"
  }
 },
 "nbformat": 4,
 "nbformat_minor": 1
}
