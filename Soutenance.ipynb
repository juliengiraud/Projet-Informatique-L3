{
 "cells": [
  {
   "cell_type": "code",
   "execution_count": 1,
   "metadata": {},
   "outputs": [],
   "source": [
    "#### IMPORTS ####\n",
    "\n",
    "# Visualisation et manipulation des données\n",
    "from collections import Counter\n",
    "import ipywidgets as widgets\n",
    "import matplotlib.pyplot as plt\n",
    "import numpy as np\n",
    "import pandas as pd\n",
    "import random\n",
    "\n",
    "# Fichiers\n",
    "import json\n",
    "import os\n",
    "import pickle\n",
    "import zipfile\n",
    "\n",
    "# Apprentissage\n",
    "from sklearn.decomposition import NMF\n",
    "from sklearn.manifold import TSNE as tsne\n",
    "from sklearn.neighbors import NearestNeighbors\n",
    "\n",
    "# Interface\n",
    "from ipywidgets import Button, Layout\n",
    "from IPython.display import display\n",
    "\n",
    "# Carte\n",
    "from bokeh.io import curdoc\n",
    "from bokeh.layouts import layout, column\n",
    "from bokeh.models import ColumnDataSource, Div\n",
    "from bokeh.models.tools import HoverTool\n",
    "from bokeh.models.widgets import Slider, Select, TextInput\n",
    "from bokeh.plotting import figure, show, output_file\n",
    "import ipywidgets as widgets\n"
   ]
  },
  {
   "cell_type": "code",
   "execution_count": 160,
   "metadata": {},
   "outputs": [
    {
     "name": "stderr",
     "output_type": "stream",
     "text": [
      "/home/julien/anaconda3/lib/python3.7/site-packages/sklearn/base.py:306: UserWarning: Trying to unpickle estimator NMF from version 0.21.3 when using version 0.21.2. This might lead to breaking code or invalid results. Use at your own risk.\n",
      "  UserWarning)\n",
      "/home/julien/anaconda3/lib/python3.7/site-packages/sklearn/base.py:306: UserWarning: Trying to unpickle estimator NearestNeighbors from version 0.21.3 when using version 0.21.2. This might lead to breaking code or invalid results. Use at your own risk.\n",
      "  UserWarning)\n"
     ]
    }
   ],
   "source": [
    "#### Chargement des données ####\n",
    "\n",
    "with zipfile.ZipFile('./whats-cooking-data.zip', 'r') as z:\n",
    "    \n",
    "    # cuisines\n",
    "    file = z.open('cuisines.data', 'r')\n",
    "    cuisines = pickle.load(file)\n",
    "    file.close()\n",
    "    \n",
    "    # dfs\n",
    "    file = z.open('dfs.data', 'r')\n",
    "    dfs = pickle.load(file)\n",
    "    file.close()\n",
    "    \n",
    "    # id_par_points_par_pays\n",
    "    file = z.open('id_par_points_par_pays.data', 'r')\n",
    "    id_par_points_par_pays = pickle.load(file)\n",
    "    file.close()\n",
    "    \n",
    "    # id_plats_train\n",
    "    file = z.open('id_plats_train.data', 'r')\n",
    "    id_plats_train = pickle.load(file)\n",
    "    file.close()\n",
    "    \n",
    "    # ingredients\n",
    "    file = z.open('ingredients.data', 'r')\n",
    "    ingredients = pickle.load(file)\n",
    "    file.close()\n",
    "    \n",
    "    # ingredients_par_points_par_pays\n",
    "    file = z.open('ingredients_par_points_par_pays.data', 'r')\n",
    "    ingredients_par_points_par_pays = pickle.load(file)\n",
    "    file.close()\n",
    "    \n",
    "    # model\n",
    "    file = z.open('model.data', 'r')\n",
    "    model = pickle.load(file)\n",
    "    file.close()\n",
    "    \n",
    "    # neigh\n",
    "    file = z.open('neigh.data', 'r')\n",
    "    neigh = pickle.load(file)\n",
    "    file.close()\n",
    "    \n",
    "    # points_par_pays\n",
    "    file = z.open('points_par_pays.data', 'r')\n",
    "    points_par_pays = pickle.load(file)\n",
    "    file.close()\n",
    "    \n",
    "    # points_plats\n",
    "    file = z.open('points_plats.data', 'r')\n",
    "    points_plats = pickle.load(file)\n",
    "    file.close()\n",
    "    \n",
    "z.close()\n"
   ]
  },
  {
   "cell_type": "code",
   "execution_count": 12,
   "metadata": {},
   "outputs": [],
   "source": [
    "#### genere des couleurs aléatoires ####\n",
    "def couleur_generer():\n",
    "    number_of_colors = 20\n",
    "    color = [\"#\"+''.join([random.choice('0123456789ABCDEF') for j in range(6)])\n",
    "             for i in range(number_of_colors)]\n",
    "    return color\n"
   ]
  },
  {
   "cell_type": "code",
   "execution_count": 144,
   "metadata": {},
   "outputs": [],
   "source": [
    "#### affichage de nos recettes sur une carte ####\n",
    "#retourne la source de tous nos points afin de les afficher \n",
    "def ajouter(tout_les_points):\n",
    "    color = couleur_generer()\n",
    "    #on crée d'abord notre source à affichera avec un dataframe \n",
    "    table = []\n",
    "    tmp = dict()\n",
    "    for i in range (len(tout_les_points)):\n",
    "        mes_points = np.asarray(tout_les_points[i])\n",
    "        for j in range(len(mes_points)):\n",
    "            tmp['color'] = color[i];\n",
    "            tmp['cuisine']= cuisines[i]\n",
    "            tmp = dict()\n",
    "            tmp['x'] = mes_points[j][1]\n",
    "            tmp['y'] = mes_points[j][0]\n",
    "            tmp['id'] = id_par_points_par_pays[i][j]\n",
    "            tmp['ingredient']=ingredients_par_points_par_pays[i][j].replace(\", \", \"\\n\")\n",
    "            table.append(tmp)\n",
    "\n",
    "    df_c = pd.DataFrame(table)\n",
    "    return df_c.fillna(0)"
   ]
  },
  {
   "cell_type": "code",
   "execution_count": 145,
   "metadata": {},
   "outputs": [],
   "source": [
    "#affiche les points de tous nos points\n",
    "def afficherCarte(dataSource):\n",
    "    #on prépare la carte à afficher \n",
    "    TOOLS=\"hover,crosshair,pan,wheel_zoom,zoom_in,zoom_out,box_zoom,undo,redo,reset,tap,save,box_select,poly_select,lasso_select,\"\n",
    "    p = figure(tools=TOOLS,  tooltips = [ ('id', '@id'),('cuisine', '@cuisine'), ('ingrédients', '<pre>@ingredient</pre>')])\n",
    "    p.title.text = 'Carte des plats par couleur de pays'\n",
    "    source = ColumnDataSource(dataSource) #on installe notre source pour l'afficher \n",
    "    p.circle( 'x' , 'y', source= source, fill_color= 'color' , fill_alpha= 1, line_color=None, size=10 )\n",
    "    show(p)"
   ]
  },
  {
   "cell_type": "code",
   "execution_count": 146,
   "metadata": {},
   "outputs": [],
   "source": [
    "#Nécessite la source de tous nos points pour mettre en valeur un de ces points \n",
    "def mettre_en_valeur_recette(dataSource, monPoint):\n",
    "    df_test = dataSource.loc[dataSource['id'] == monPoint]\n",
    "    return df_test\n",
    "#affichage de nos points + le point qu'on veut mettre en valeur dans un graphe\n",
    "def afficherCarte2(DS_tout_les_points, DS_monPoint):\n",
    "    TOOLS=\"hover,crosshair,pan,wheel_zoom,zoom_in,zoom_out,box_zoom,undo,redo,reset,tap,save,box_select,poly_select,lasso_select,\"\n",
    "    p = figure(tools=TOOLS,  tooltips = [ ('id', '@id'),('cuisine', '@cuisine'), ('ingrédients', '<pre>@ingredient</pre>')])\n",
    "    p.title.text = 'Carte des plats par couleur de pays'\n",
    "    source = ColumnDataSource(DS_tout_les_points) #on installe notre source pour l'afficher \n",
    "    p.circle( 'x' , 'y', source= source, fill_color= 'color' , fill_alpha= 1, line_color=None, size=10 )\n",
    "    source2 = ColumnDataSource(DS_monPoint)\n",
    "    p.circle( 'x' , 'y', source= source2, fill_color= 'color' , fill_alpha= 1, line_color=None, size=30)\n",
    "    show(p)"
   ]
  },
  {
   "cell_type": "code",
   "execution_count": 147,
   "metadata": {},
   "outputs": [],
   "source": [
    "#affichage d'un tout nouveau point avec ses coordonnées en parametre \n",
    "def afficherNouveauPoint(DS_tout_les_points, coordonnee): #[50 ,20]\n",
    "    TOOLS=\"hover,crosshair,pan,wheel_zoom,zoom_in,zoom_out,box_zoom,undo,redo,reset,tap,save,box_select,poly_select,lasso_select,\"\n",
    "    p = figure(tools=TOOLS,  tooltips = [ ('id', '@id'),('cuisine', '@cuisine'),('ingrédients', '<pre>@ingredient</pre>')])\n",
    "    p.title.text = 'Carte des plats par couleur de pays'\n",
    "    source = ColumnDataSource(DS_tout_les_points) #on installe notre source pour l'afficher \n",
    "    p.circle( 'x' , 'y', source= source, fill_color= 'color' , fill_alpha= 1, line_color=None, size=10 )\n",
    "    p.circle( coordonnee[0] , coordonnee[1],  fill_color= 'red' , fill_alpha= 1, line_color=None, size=30)\n",
    "    show(p)"
   ]
  },
  {
   "cell_type": "code",
   "execution_count": 148,
   "metadata": {},
   "outputs": [],
   "source": [
    "def dis_moi_qui_me_ressemble_le_plus(vecteur):\n",
    "    voisins = neigh.kneighbors([vecteur], return_distance=False)[0]\n",
    "    cuisines_voisines = []\n",
    "    test = []\n",
    "    for voisin in voisins:\n",
    "        cuisines_voisines.append(dfs.loc[dfs['id'] == id_plats_train[voisin]]['cuisine'].unique()[0])\n",
    "        test.append(id_plats_train[voisin])\n",
    "    print(cuisines_voisines, voisins, test)\n",
    "    occurence_count = Counter(cuisines_voisines)\n",
    "    return occurence_count.most_common(1)[0][0]"
   ]
  },
  {
   "cell_type": "code",
   "execution_count": 149,
   "metadata": {},
   "outputs": [],
   "source": [
    "def donne_moi_les_coo_de_ma_nouvelle_recette_en_6D(recette):\n",
    "    recette_csv = []\n",
    "    for ingr in ingredients:\n",
    "        tmp = dict()\n",
    "        tmp['ingredient'] = ingr\n",
    "        tmp['val'] = 1 if ingr in recette.value else 0\n",
    "        tmp['id'] = 'Nouvelle recette'\n",
    "        recette_csv.append(tmp)\n",
    "\n",
    "    recette_df = pd.DataFrame(recette_csv)\n",
    "    recette_util_df = pd.pivot_table(data = recette_df,\n",
    "                                              values = 'val', index = 'id', columns = 'ingredient')\n",
    "    return model.transform(recette_util_df)[0]\n"
   ]
  },
  {
   "cell_type": "code",
   "execution_count": 150,
   "metadata": {},
   "outputs": [],
   "source": [
    "def donne_moi_les_coo_de_ma_nouvelle_recette_en_2D(vecteur):\n",
    "    voisins = neigh.kneighbors([vecteur], return_distance=False)[0]\n",
    "    cuisines_voisines = []\n",
    "    coo = []\n",
    "    for voisin in voisins:\n",
    "        cuisines_voisines.append(dfs.loc[dfs['id'] == id_plats_train[voisin]]['cuisine'].unique()[0])\n",
    "        coo.append(points_plats[voisin])\n",
    "    return np.mean(coo, axis=0)\n"
   ]
  },
  {
   "cell_type": "code",
   "execution_count": 151,
   "metadata": {},
   "outputs": [],
   "source": [
    "#### Construction de la carte des recettes ####\n",
    "\n",
    "df_c = ajouter(points_par_pays)\n"
   ]
  },
  {
   "cell_type": "code",
   "execution_count": 152,
   "metadata": {},
   "outputs": [],
   "source": [
    "#### Affichage de la carte des recettes ####\n",
    "\n",
    "afficherCarte(df_c)\n"
   ]
  },
  {
   "cell_type": "code",
   "execution_count": 165,
   "metadata": {},
   "outputs": [
    {
     "data": {
      "application/vnd.jupyter.widget-view+json": {
       "model_id": "f2596bc4ded14004b868920f4f7fecc7",
       "version_major": 2,
       "version_minor": 0
      },
      "text/plain": [
       "SelectMultiple(description='Ingrédients :', index=(4108, 3314, 5957), layout=Layout(height='200px', width='650…"
      ]
     },
     "metadata": {},
     "output_type": "display_data"
    }
   ],
   "source": [
    "nouvelle_recette = widgets.SelectMultiple(\n",
    "    options=ingredients,\n",
    "    value=['milk', 'honey', 'sweet potatoes'],\n",
    "    description='Ingrédients :',\n",
    "    disabled=False,\n",
    "    layout = Layout(width='650px', height='200px'),\n",
    ")\n",
    "display(nouvelle_recette)\n"
   ]
  },
  {
   "cell_type": "code",
   "execution_count": 166,
   "metadata": {},
   "outputs": [
    {
     "name": "stdout",
     "output_type": "stream",
     "text": [
      "('milk', 'honey', 'sweet potatoes')\n"
     ]
    }
   ],
   "source": [
    "# Récapitulatif du nouveau plat\n",
    "\n",
    "print(nouvelle_recette.value)\n"
   ]
  },
  {
   "cell_type": "code",
   "execution_count": 167,
   "metadata": {},
   "outputs": [],
   "source": [
    "#### Récupération des vecteurs 6 et 2 dimentions\n",
    "\n",
    "nouvelle_recette_W = donne_moi_les_coo_de_ma_nouvelle_recette_en_6D(nouvelle_recette)\n",
    "coordonnee = donne_moi_les_coo_de_ma_nouvelle_recette_en_2D(nouvelle_recette_W)\n"
   ]
  },
  {
   "cell_type": "code",
   "execution_count": 168,
   "metadata": {},
   "outputs": [
    {
     "name": "stdout",
     "output_type": "stream",
     "text": [
      "['southern_us', 'southern_us', 'french', 'british', 'southern_us', 'irish', 'japanese', 'italian', 'french', 'indian'] [34794 36729 33113 20055 13874 19679 11180  1671 34008 35720] ['49170', '661', '47227', '32613', '25651', '32199', '22613', '11906', '48265', '5467']\n",
      "southern_us\n"
     ]
    }
   ],
   "source": [
    "#print(nouvelle_recette_W)\n",
    "print(dis_moi_qui_me_ressemble_le_plus(nouvelle_recette_W))\n"
   ]
  },
  {
   "cell_type": "code",
   "execution_count": 169,
   "metadata": {},
   "outputs": [],
   "source": [
    "afficherNouveauPoint(df_c, coordonnee)\n"
   ]
  },
  {
   "cell_type": "code",
   "execution_count": null,
   "metadata": {},
   "outputs": [],
   "source": []
  }
 ],
 "metadata": {
  "kernelspec": {
   "display_name": "Python 3",
   "language": "python",
   "name": "python3"
  },
  "language_info": {
   "codemirror_mode": {
    "name": "ipython",
    "version": 3
   },
   "file_extension": ".py",
   "mimetype": "text/x-python",
   "name": "python",
   "nbconvert_exporter": "python",
   "pygments_lexer": "ipython3",
   "version": "3.7.3"
  }
 },
 "nbformat": 4,
 "nbformat_minor": 2
}
