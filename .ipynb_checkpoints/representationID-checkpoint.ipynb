{
 "cells": [
  {
   "cell_type": "code",
   "execution_count": 97,
   "metadata": {
    "_cell_guid": "b1076dfc-b9ad-4769-8c92-a6c4dae69d19",
    "_uuid": "8f2839f25d086af736a60e9eeb907d3b93b6e0e5"
   },
   "outputs": [],
   "source": [
    "#### IMPORTS ####\n",
    "\n",
    "# data visualisation and manipulation\n",
    "import numpy as np\n",
    "import pandas as pd\n",
    "\n",
    "import random\n",
    "import pickle \n",
    "##graphique\n",
    "from bokeh.plotting import figure, show, output_file\n",
    "from bokeh.models.tools import HoverTool\n",
    "from bokeh.layouts import layout, column\n",
    "from bokeh.models import ColumnDataSource, Div\n",
    "from bokeh.models.widgets import Slider, Select, TextInput\n",
    "from bokeh.io import curdoc\n",
    "import ipywidgets as widgets\n",
    "\n",
    "# fichiers\n",
    "import json\n",
    "\n"
   ]
  },
  {
   "cell_type": "code",
   "execution_count": 2,
   "metadata": {
    "_cell_guid": "79c7e3d0-c299-4dcb-8224-4455121ee9b0",
    "_uuid": "d629ff2d2480ee46fbb7e2d37f6b5fab8052498a"
   },
   "outputs": [],
   "source": [
    "#### Chargement des fichiers ####\n",
    "\n",
    "# Fichier json d'apprentissage\n",
    "with open('train.json', 'r') as f1:\n",
    "    datas1 = json.load(f1) # id, cuisine, ingredients[]\n",
    "\n",
    "# Fichier json dont on cherche les types de cuisines\n",
    "with open('test.json', 'r') as f2:\n",
    "    datas2 = json.load(f2) # id, ingredients[]\n"
   ]
  },
  {
   "cell_type": "code",
   "execution_count": 3,
   "metadata": {},
   "outputs": [],
   "source": [
    "#### Extraction des données des fichiers ####\n",
    "csv = []\n",
    "\n",
    "for data in datas1:\n",
    "    for ingredient in data['ingredients']:\n",
    "        # Ajout de la ligne id-cuisine-ingredient\n",
    "        tmp = dict()\n",
    "        tmp['id'] = str(data['id'])\n",
    "        tmp['cuisine'] = data['cuisine']\n",
    "        tmp['ingredient'] = ingredient\n",
    "        csv.append(tmp)\n",
    "\n",
    "df = pd.DataFrame(csv) # DataFrame des données Source (d'apprentissage : train.json)\n",
    "#dft = pd.DataFrame(csv2) # DataFrame des données de Test (test.json)"
   ]
  },
  {
   "cell_type": "code",
   "execution_count": 4,
   "metadata": {},
   "outputs": [],
   "source": [
    "#### Récupération des données extraites ####\n",
    "cuisines = list(df['cuisine'].unique())"
   ]
  },
  {
   "cell_type": "code",
   "execution_count": 9,
   "metadata": {},
   "outputs": [],
   "source": [
    "#### Ouverture de nouveaux fichiers ####\n",
    "    #fichier dans lequel on a nos coordonnés de nos recettes par pays\n",
    "file = open('points_par_pays.data', 'rb')\n",
    "points_par_pays = pickle.load(file)\n",
    "file.close()\n",
    "    #fichier dans lequel on a tout les ID des recettes \n",
    "file2 = open('id_par_points_par_pays.data', 'rb')\n",
    "id_recette = pickle.load(file2)\n",
    "file2.close()"
   ]
  },
  {
   "cell_type": "code",
   "execution_count": 59,
   "metadata": {},
   "outputs": [],
   "source": [
    "#### genere des couleurs aléatoires ####\n",
    "def couleur_generer():\n",
    "    number_of_colors = 20\n",
    "    color = [\"#\"+''.join([random.choice('0123456789ABCDEF') for j in range(6)])\n",
    "             for i in range(number_of_colors)]\n",
    "    return color"
   ]
  },
  {
   "cell_type": "code",
   "execution_count": 77,
   "metadata": {},
   "outputs": [],
   "source": [
    "#### affichage de nos recettes sur une carte ####\n",
    "#retourne la source de tous nos points afin de les afficher \n",
    "def ajouter(tout_les_points):\n",
    "    color = couleur_generer()\n",
    "    #on crée d'abord notre source à affichera avec un dataframe \n",
    "    table = []\n",
    "    tmp = dict()\n",
    "    for i in range (len(tout_les_points)):\n",
    "        mes_points = np.asarray(tout_les_points[i])\n",
    "        for j in range(len(mes_points)):\n",
    "            tmp['color'] = color[i];\n",
    "            tmp['cuisine']= cuisines[i]\n",
    "            tmp = dict()\n",
    "            tmp['x'] = mes_points[j][0]\n",
    "            tmp['y'] = mes_points[j][1]\n",
    "            tmp['id'] = id_recette[i][j]\n",
    "            tmp['ingredient']=\"\"\n",
    "            table.append(tmp)\n",
    "\n",
    "    df_c = pd.DataFrame(table)\n",
    "    return df_c.fillna(0)\n",
    "     \n",
    "    "
   ]
  },
  {
   "cell_type": "code",
   "execution_count": 78,
   "metadata": {},
   "outputs": [],
   "source": [
    "#affiche les points de tous nos points\n",
    "def afficherCarte(dataSource):\n",
    "    #on prépare la carte à afficher \n",
    "    TOOLS=\"hover,crosshair,pan,wheel_zoom,zoom_in,zoom_out,box_zoom,undo,redo,reset,tap,save,box_select,poly_select,lasso_select,\"\n",
    "    p = figure(tools=TOOLS,  tooltips = [ ('id', '@id'),('cuisine', '@cuisine'), ('ingrédients', '@ingredient')])\n",
    "    p.title.text = 'Carte des plats par couleur de pays'\n",
    "    source = ColumnDataSource(dataSource) #on installe notre source pour l'afficher \n",
    "    p.circle( 'x' , 'y', source= source, fill_color= 'color' , fill_alpha= 1, line_color=None, size=10 )\n",
    "    show(p)"
   ]
  },
  {
   "cell_type": "code",
   "execution_count": 80,
   "metadata": {},
   "outputs": [],
   "source": [
    "#Nécessite la source de tous nos points pour mettre en valeur un de ces points \n",
    "def mettre_en_valeur_recette(dataSource, monPoint):\n",
    "    df_test = dataSource.loc[dataSource['id'] == monPoint]\n",
    "    return df_test\n",
    "#affichage de nos points + le point qu'on veut mettre en valeur dans un graphe\n",
    "def afficherCarte2(DS_tout_les_points, DS_monPoint):\n",
    "    TOOLS=\"hover,crosshair,pan,wheel_zoom,zoom_in,zoom_out,box_zoom,undo,redo,reset,tap,save,box_select,poly_select,lasso_select,\"\n",
    "    p = figure(tools=TOOLS,  tooltips = [ ('id', '@id'),('cuisine', '@cuisine'), ('ingrédients', '@ingredient')])\n",
    "    p.title.text = 'Carte des plats par couleur de pays'\n",
    "    source = ColumnDataSource(DS_tout_les_points) #on installe notre source pour l'afficher \n",
    "    p.circle( 'x' , 'y', source= source, fill_color= 'color' , fill_alpha= 1, line_color=None, size=10 )\n",
    "    source2 = ColumnDataSource(DS_monPoint)\n",
    "    p.circle( 'x' , 'y', source= source2, fill_color= 'color' , fill_alpha= 1, line_color=None, size=30)\n",
    "    show(p)"
   ]
  },
  {
   "cell_type": "code",
   "execution_count": 92,
   "metadata": {},
   "outputs": [],
   "source": [
    "#affichage d'un tout nouveau point avec ses coordonnées en parametre \n",
    "def afficherNouveauPoint(DS_tout_les_points, coordonnee): #[50 ,20]\n",
    "    TOOLS=\"hover,crosshair,pan,wheel_zoom,zoom_in,zoom_out,box_zoom,undo,redo,reset,tap,save,box_select,poly_select,lasso_select,\"\n",
    "    p = figure(tools=TOOLS,  tooltips = [ ('id', '@id'),('cuisine', '@cuisine'),('ingrédients', '@ingredient')])\n",
    "    p.title.text = 'Carte des plats par couleur de pays'\n",
    "    source = ColumnDataSource(DS_tout_les_points) #on installe notre source pour l'afficher \n",
    "    p.circle( 'x' , 'y', source= source, fill_color= 'color' , fill_alpha= 1, line_color=None, size=10 )\n",
    "    p.circle( coordonnee[0] , coordonnee[1],  fill_color= 'red' , fill_alpha= 1, line_color=None, size=30)\n",
    "    show(p)\n",
    "    "
   ]
  },
  {
   "cell_type": "code",
   "execution_count": 95,
   "metadata": {},
   "outputs": [],
   "source": [
    "df_c = ajouter(points_par_pays)\n",
    "afficherNouveauPoint(df_c, coordonnee)"
   ]
  }
 ],
 "metadata": {
  "kernelspec": {
   "display_name": "Python 3",
   "language": "python",
   "name": "python3"
  },
  "language_info": {
   "codemirror_mode": {
    "name": "ipython",
    "version": 3
   },
   "file_extension": ".py",
   "mimetype": "text/x-python",
   "name": "python",
   "nbconvert_exporter": "python",
   "pygments_lexer": "ipython3",
   "version": "3.7.4"
  }
 },
 "nbformat": 4,
 "nbformat_minor": 1
}
